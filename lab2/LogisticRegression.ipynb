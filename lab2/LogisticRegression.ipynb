{
 "cells": [
  {
   "cell_type": "markdown",
   "id": "a210c9d5",
   "metadata": {},
   "source": [
    "## 1. Import libraries and Dataframe"
   ]
  },
  {
   "cell_type": "markdown",
   "id": "a144e384",
   "metadata": {},
   "source": [
    "Import libraries"
   ]
  },
  {
   "cell_type": "code",
   "execution_count": null,
   "id": "f7891864",
   "metadata": {
    "vscode": {
     "languageId": "plaintext"
    }
   },
   "outputs": [],
   "source": [
    "import pandas as pd"
   ]
  }
 ],
 "metadata": {
  "language_info": {
   "name": "python"
  }
 },
 "nbformat": 4,
 "nbformat_minor": 5
}
