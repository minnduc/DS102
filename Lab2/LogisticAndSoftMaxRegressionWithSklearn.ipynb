{
  "nbformat": 4,
  "nbformat_minor": 0,
  "metadata": {
    "colab": {
      "provenance": []
    },
    "kernelspec": {
      "name": "python3",
      "display_name": "Python 3"
    },
    "language_info": {
      "name": "python"
    }
  },
  "cells": [
    {
      "cell_type": "markdown",
      "source": [
        "# 1. IMPORT LIBRABIES AND DATAFRAME"
      ],
      "metadata": {
        "id": "SizThamQhx4d"
      }
    },
    {
      "cell_type": "markdown",
      "source": [
        "Import libraries"
      ],
      "metadata": {
        "id": "hN-35JrFh6fC"
      }
    },
    {
      "cell_type": "code",
      "execution_count": null,
      "metadata": {
        "id": "DfWFcYtrhOOp"
      },
      "outputs": [],
      "source": [
        "import pandas as pd\n",
        "import numpy as np"
      ]
    },
    {
      "cell_type": "markdown",
      "source": [
        "Import dataframe"
      ],
      "metadata": {
        "id": "ys6esG_Yh93B"
      }
    },
    {
      "cell_type": "code",
      "source": [
        "data = pd.read_csv('/content/drive/MyDrive/Data/data/data.csv', sep=';')"
      ],
      "metadata": {
        "id": "-tJ9MMpHiK4F"
      },
      "execution_count": null,
      "outputs": []
    },
    {
      "cell_type": "markdown",
      "source": [
        "# 2. PREPARING DATA FOR LOGISTIC REGRESSION"
      ],
      "metadata": {
        "id": "12YQwMr2onBx"
      }
    },
    {
      "cell_type": "code",
      "source": [
        "df = data.copy()"
      ],
      "metadata": {
        "id": "oCHy_n19lRya"
      },
      "execution_count": null,
      "outputs": []
    },
    {
      "cell_type": "code",
      "source": [
        "def encode_target(value: str)->int:\n",
        "  if value == \"Enrolled\" or value == \"Dropout\":\n",
        "    return 0\n",
        "\n",
        "  return 1"
      ],
      "metadata": {
        "id": "LS8bZG3Ulfkx"
      },
      "execution_count": null,
      "outputs": []
    },
    {
      "cell_type": "code",
      "source": [
        "df[\"Target\"] = df[\"Target\"].apply(encode_target)"
      ],
      "metadata": {
        "id": "4SAT-bl6lh2J"
      },
      "execution_count": null,
      "outputs": []
    },
    {
      "cell_type": "code",
      "source": [
        "print(df[\"Target\"].value_counts())"
      ],
      "metadata": {
        "colab": {
          "base_uri": "https://localhost:8080/"
        },
        "id": "h7hx8gPdlkkF",
        "outputId": "1710c98e-e671-44a5-d62d-780ca457e8b0"
      },
      "execution_count": null,
      "outputs": [
        {
          "output_type": "stream",
          "name": "stdout",
          "text": [
            "Target\n",
            "0    2215\n",
            "1    2209\n",
            "Name: count, dtype: int64\n"
          ]
        }
      ]
    },
    {
      "cell_type": "code",
      "source": [
        "continous_columns = [\n",
        "    \"Previous qualification (grade)\",\n",
        "    \"Admission grade\",\n",
        "    \"Unemployment rate\",\n",
        "    \"Inflation rate\",\n",
        "    \"GDP\"\n",
        "]\n",
        "for column in continous_columns:\n",
        "    df[column] = (df[column] - df[column].mean()) / df[column].std()"
      ],
      "metadata": {
        "id": "c8KdgrFOkoFe"
      },
      "execution_count": null,
      "outputs": []
    },
    {
      "cell_type": "code",
      "source": [
        "normalized_df = (df -df.mean()) / df.std()"
      ],
      "metadata": {
        "id": "CPGd9h7pkqNt"
      },
      "execution_count": null,
      "outputs": []
    },
    {
      "cell_type": "code",
      "source": [
        "normalized_df['Target'] = df['Target']"
      ],
      "metadata": {
        "id": "vY9XMEYjksOK"
      },
      "execution_count": null,
      "outputs": []
    },
    {
      "cell_type": "code",
      "source": [
        "X = normalized_df.iloc[:, :-1]"
      ],
      "metadata": {
        "id": "zehrrLU8kuwu"
      },
      "execution_count": null,
      "outputs": []
    },
    {
      "cell_type": "code",
      "source": [
        "X = X.to_numpy()\n",
        "X.shape"
      ],
      "metadata": {
        "colab": {
          "base_uri": "https://localhost:8080/"
        },
        "id": "rtJCy_m-kxlI",
        "outputId": "1dc027a7-4daf-4c19-9f25-dfd145b2dc65"
      },
      "execution_count": null,
      "outputs": [
        {
          "output_type": "execute_result",
          "data": {
            "text/plain": [
              "(4424, 36)"
            ]
          },
          "metadata": {},
          "execution_count": 311
        }
      ]
    },
    {
      "cell_type": "code",
      "source": [
        "y = normalized_df.iloc[:, -1]\n",
        "y.value_counts()"
      ],
      "metadata": {
        "colab": {
          "base_uri": "https://localhost:8080/"
        },
        "id": "-5-3SKSKk3rt",
        "outputId": "b83add65-60a8-487b-c713-ca307839f414"
      },
      "execution_count": null,
      "outputs": [
        {
          "output_type": "execute_result",
          "data": {
            "text/plain": [
              "Target\n",
              "0    2215\n",
              "1    2209\n",
              "Name: count, dtype: int64"
            ]
          },
          "metadata": {},
          "execution_count": 312
        }
      ]
    },
    {
      "cell_type": "code",
      "source": [
        "y = y.to_numpy().reshape(-1, 1)"
      ],
      "metadata": {
        "id": "LX_OnlmAk6fD"
      },
      "execution_count": null,
      "outputs": []
    },
    {
      "cell_type": "code",
      "source": [
        "from sklearn.model_selection import train_test_split\n",
        "\n",
        "X_train, X_test, y_train, y_test = train_test_split(X, y, test_size= 0.2, random_state=42)"
      ],
      "metadata": {
        "id": "-OEvANOwlq96"
      },
      "execution_count": null,
      "outputs": []
    },
    {
      "cell_type": "code",
      "source": [
        "X_train.shape, X_test.shape, y_train.shape, y_test.shape"
      ],
      "metadata": {
        "colab": {
          "base_uri": "https://localhost:8080/"
        },
        "id": "Aj3ls3KvltlE",
        "outputId": "627c4cd8-53ff-43b7-da82-bbdc06f255c7"
      },
      "execution_count": null,
      "outputs": [
        {
          "output_type": "execute_result",
          "data": {
            "text/plain": [
              "((3539, 36), (885, 36), (3539, 1), (885, 1))"
            ]
          },
          "metadata": {},
          "execution_count": 315
        }
      ]
    },
    {
      "cell_type": "markdown",
      "source": [
        "# 3. BUILDING LOGISTIC REGRESSION MODEL"
      ],
      "metadata": {
        "id": "UqpghGzJovif"
      }
    },
    {
      "cell_type": "code",
      "source": [
        "from sklearn.linear_model import LogisticRegression\n",
        "from sklearn.metrics import log_loss\n",
        "from sklearn.metrics import accuracy_score"
      ],
      "metadata": {
        "id": "649yu3Rel0z_"
      },
      "execution_count": null,
      "outputs": []
    },
    {
      "cell_type": "code",
      "source": [
        "from sklearn.linear_model import LogisticRegression\n",
        "from sklearn.metrics import accuracy_score, log_loss\n",
        "\n",
        "model = LogisticRegression()\n",
        "model.fit(X_train, y_train.ravel())\n",
        "\n",
        "y_pred = model.predict(X_test)\n",
        "y_pred_proba = model.predict_proba(X_test)\n",
        "\n",
        "test_accuracy = accuracy_score(y_test, y_pred)\n",
        "test_loss = log_loss(y_test, y_pred_proba)\n",
        "print(f\"Accuracy of test: {test_accuracy}\")\n",
        "print(f\"Loss of test: {test_loss}\")"
      ],
      "metadata": {
        "colab": {
          "base_uri": "https://localhost:8080/"
        },
        "id": "0zybxuOwnD_n",
        "outputId": "6eff3e03-bc7f-45b6-8481-300166f2bfee"
      },
      "execution_count": null,
      "outputs": [
        {
          "output_type": "stream",
          "name": "stdout",
          "text": [
            "Accuracy of test: 0.8282485875706215\n",
            "Loss of test: 0.36924179891051245\n"
          ]
        }
      ]
    },
    {
      "cell_type": "code",
      "source": [
        "from sklearn.metrics import classification_report\n",
        "print(classification_report(y_test, y_pred))"
      ],
      "metadata": {
        "colab": {
          "base_uri": "https://localhost:8080/"
        },
        "id": "thSjddfHmAhX",
        "outputId": "ae901e2f-985a-472d-ca03-052b956018a8"
      },
      "execution_count": null,
      "outputs": [
        {
          "output_type": "stream",
          "name": "stdout",
          "text": [
            "              precision    recall  f1-score   support\n",
            "\n",
            "           0       0.88      0.78      0.83       467\n",
            "           1       0.78      0.88      0.83       418\n",
            "\n",
            "    accuracy                           0.83       885\n",
            "   macro avg       0.83      0.83      0.83       885\n",
            "weighted avg       0.83      0.83      0.83       885\n",
            "\n"
          ]
        }
      ]
    },
    {
      "cell_type": "markdown",
      "source": [
        "# 4. PREPARING DATA FOR SOFTMAX REGRESSION"
      ],
      "metadata": {
        "id": "m5siPCQ-pXpZ"
      }
    },
    {
      "cell_type": "code",
      "source": [
        "df1 = data.copy()"
      ],
      "metadata": {
        "id": "l-_HVrS4pdlM"
      },
      "execution_count": null,
      "outputs": []
    },
    {
      "cell_type": "code",
      "source": [
        "def encode_target(value: str) -> int:\n",
        "    if value == \"Enrolled\":\n",
        "        return 0\n",
        "    if value == \"Dropout\":\n",
        "        return 1\n",
        "\n",
        "    return 2"
      ],
      "metadata": {
        "id": "7F3AfebLprcR"
      },
      "execution_count": null,
      "outputs": []
    },
    {
      "cell_type": "code",
      "source": [
        "df1[\"Target\"] = df1[\"Target\"].apply(encode_target)"
      ],
      "metadata": {
        "id": "LOK3m50-puN2"
      },
      "execution_count": null,
      "outputs": []
    },
    {
      "cell_type": "code",
      "source": [
        "print(df1[\"Target\"].value_counts())"
      ],
      "metadata": {
        "colab": {
          "base_uri": "https://localhost:8080/"
        },
        "id": "4MbE7q_ipwmE",
        "outputId": "671e9f3f-a8d4-43f6-b0b6-272d176f0352"
      },
      "execution_count": null,
      "outputs": [
        {
          "output_type": "stream",
          "name": "stdout",
          "text": [
            "Target\n",
            "2    2209\n",
            "1    1421\n",
            "0     794\n",
            "Name: count, dtype: int64\n"
          ]
        }
      ]
    },
    {
      "cell_type": "code",
      "source": [
        "continous_columns = [\n",
        "    \"Previous qualification (grade)\",\n",
        "    \"Admission grade\",\n",
        "    \"Unemployment rate\",\n",
        "    \"Inflation rate\",\n",
        "    \"GDP\"\n",
        "]\n",
        "for column in continous_columns:\n",
        "    df1[column] = (df1[column] - df1[column].mean()) / df1[column].std()"
      ],
      "metadata": {
        "id": "CwYwhLf9p1qQ"
      },
      "execution_count": null,
      "outputs": []
    },
    {
      "cell_type": "code",
      "source": [
        "normalized_df1 = (df1 -df1.mean()) / df1.std()"
      ],
      "metadata": {
        "id": "HjDmpOUYp3_A"
      },
      "execution_count": null,
      "outputs": []
    },
    {
      "cell_type": "code",
      "source": [
        "normalized_df1['Target'] = df1['Target']"
      ],
      "metadata": {
        "id": "hkA_2c1Vp51h"
      },
      "execution_count": null,
      "outputs": []
    },
    {
      "cell_type": "code",
      "source": [
        "X = normalized_df1.iloc[:, :-1]"
      ],
      "metadata": {
        "id": "q3m3ENYYqJVu"
      },
      "execution_count": null,
      "outputs": []
    },
    {
      "cell_type": "code",
      "source": [
        "X = X.to_numpy()\n",
        "X.shape"
      ],
      "metadata": {
        "colab": {
          "base_uri": "https://localhost:8080/"
        },
        "id": "T7bb_pZDqL6J",
        "outputId": "c88686af-da94-4838-cb81-267bd8bf3035"
      },
      "execution_count": null,
      "outputs": [
        {
          "output_type": "execute_result",
          "data": {
            "text/plain": [
              "(4424, 36)"
            ]
          },
          "metadata": {},
          "execution_count": 327
        }
      ]
    },
    {
      "cell_type": "code",
      "source": [
        "y = normalized_df1.iloc[:, -1]\n",
        "y.value_counts()"
      ],
      "metadata": {
        "colab": {
          "base_uri": "https://localhost:8080/"
        },
        "id": "75C4-7ItqQJa",
        "outputId": "9a4b4c09-72a3-431c-f3ce-a46b55790955"
      },
      "execution_count": null,
      "outputs": [
        {
          "output_type": "execute_result",
          "data": {
            "text/plain": [
              "Target\n",
              "2    2209\n",
              "1    1421\n",
              "0     794\n",
              "Name: count, dtype: int64"
            ]
          },
          "metadata": {},
          "execution_count": 328
        }
      ]
    },
    {
      "cell_type": "code",
      "source": [
        "y = y.to_numpy().reshape(-1, 1)"
      ],
      "metadata": {
        "id": "dcLZ69SyqSr_"
      },
      "execution_count": null,
      "outputs": []
    },
    {
      "cell_type": "code",
      "source": [
        "X_train, X_test, y_train, y_test = train_test_split(X, y, test_size= 0.2, random_state=42)\n",
        "X_train.shape, X_test.shape, y_train.shape, y_test.shape"
      ],
      "metadata": {
        "colab": {
          "base_uri": "https://localhost:8080/"
        },
        "id": "4DgFfH_Br8cx",
        "outputId": "b0eb22a3-c459-491c-f51b-6a59dab239b5"
      },
      "execution_count": null,
      "outputs": [
        {
          "output_type": "execute_result",
          "data": {
            "text/plain": [
              "((3539, 36), (885, 36), (3539, 1), (885, 1))"
            ]
          },
          "metadata": {},
          "execution_count": 330
        }
      ]
    },
    {
      "cell_type": "markdown",
      "source": [
        "# 5. BUILDING MODEL SOFTMAX REGRESSION"
      ],
      "metadata": {
        "id": "eB2J3QcftYqx"
      }
    },
    {
      "cell_type": "code",
      "source": [
        "model = LogisticRegression(multi_class='ovr',\n",
        "                           solver= 'liblinear')\n",
        "\n",
        "model.fit(X_train, y_train.ravel())\n",
        "\n",
        "y_pred = model.predict(X_test)\n",
        "y_pred_proba = model.predict_proba(X_test)\n",
        "\n",
        "test_accuracy = accuracy_score(y_test, y_pred)\n",
        "test_loss = log_loss(y_test, y_pred_proba)\n",
        "print(f\"Accuracy of test: {test_accuracy}\")\n",
        "print(f\"Loss of test: {test_loss}\")"
      ],
      "metadata": {
        "colab": {
          "base_uri": "https://localhost:8080/"
        },
        "id": "4oBcdWj4rO81",
        "outputId": "a5300739-aa01-4696-a9bf-af2a5cb56a33"
      },
      "execution_count": null,
      "outputs": [
        {
          "output_type": "stream",
          "name": "stdout",
          "text": [
            "Accuracy of test: 0.7615819209039548\n",
            "Loss of test: 0.6154934253703702\n"
          ]
        }
      ]
    },
    {
      "cell_type": "code",
      "source": [
        "from sklearn.metrics import classification_report\n",
        "print(classification_report(y_test, y_pred))"
      ],
      "metadata": {
        "colab": {
          "base_uri": "https://localhost:8080/"
        },
        "id": "NUe0WIMDrjOz",
        "outputId": "693e7324-2873-4ab2-a2a6-36991a4fe0cf"
      },
      "execution_count": null,
      "outputs": [
        {
          "output_type": "stream",
          "name": "stdout",
          "text": [
            "              precision    recall  f1-score   support\n",
            "\n",
            "           0       0.49      0.22      0.30       151\n",
            "           1       0.83      0.78      0.81       316\n",
            "           2       0.76      0.94      0.84       418\n",
            "\n",
            "    accuracy                           0.76       885\n",
            "   macro avg       0.69      0.65      0.65       885\n",
            "weighted avg       0.74      0.76      0.74       885\n",
            "\n"
          ]
        }
      ]
    }
  ]
}